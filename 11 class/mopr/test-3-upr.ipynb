{
 "cells": [
  {
   "cell_type": "code",
   "execution_count": 4,
   "id": "25bea302",
   "metadata": {},
   "outputs": [],
   "source": [
    "R = {\n",
    "    (1, 1),\n",
    "    (2, 2),\n",
    "    (3, 3),\n",
    "    (4, 4),\n",
    "    (5, 5),\n",
    "    (1, 2),\n",
    "    (2, 3),\n",
    "    (1, 3),\n",
    "    (4, 5)\n",
    "}\n",
    "\n",
    "A = {1, 2, 3, 4, 5}"
   ]
  },
  {
   "cell_type": "code",
   "execution_count": 5,
   "id": "6ce5d5a6",
   "metadata": {},
   "outputs": [],
   "source": [
    "def is_reflexive(A, R):\n",
    "    for a in A:\n",
    "        if((a, a) not in R):\n",
    "            return False\n",
    "        \n",
    "    return True"
   ]
  },
  {
   "cell_type": "code",
   "execution_count": 6,
   "id": "9cddda35",
   "metadata": {},
   "outputs": [],
   "source": [
    "def is_antireflexive(A, R):\n",
    "    for a in A:\n",
    "        if((a, a) in R):\n",
    "            return False\n",
    "        \n",
    "    return True"
   ]
  },
  {
   "cell_type": "code",
   "execution_count": 7,
   "id": "1d98f7e6",
   "metadata": {},
   "outputs": [],
   "source": [
    "def is_symetric(A, R):\n",
    "    for r in R:\n",
    "        if(r[::-1] not in R):\n",
    "            return False\n",
    "        \n",
    "    return True"
   ]
  },
  {
   "cell_type": "code",
   "execution_count": 8,
   "id": "76bd7853",
   "metadata": {},
   "outputs": [],
   "source": [
    "def is_antisymetric(A, R):\n",
    "    for r in R:\n",
    "        if(r[::-1] in R and r[0] != r[1]):\n",
    "            return False\n",
    "        \n",
    "    return True"
   ]
  },
  {
   "cell_type": "code",
   "execution_count": 11,
   "id": "87aeeeea",
   "metadata": {},
   "outputs": [],
   "source": [
    "def is_asymetric(A, R):\n",
    "    for r in R:\n",
    "        if(r[::-1] in R):\n",
    "            return False\n",
    "        \n",
    "    return True"
   ]
  },
  {
   "cell_type": "code",
   "execution_count": 13,
   "id": "bf3f12b1",
   "metadata": {},
   "outputs": [],
   "source": [
    "def is_transitive(A, R):\n",
    "    for (a, b) in R:\n",
    "        for (c, d) in R:\n",
    "            if b == c and (a, d) not in R:\n",
    "                return False\n",
    "    return True"
   ]
  },
  {
   "cell_type": "code",
   "execution_count": 14,
   "id": "d236921f",
   "metadata": {},
   "outputs": [
    {
     "name": "stdout",
     "output_type": "stream",
     "text": [
      "True\n",
      "False\n",
      "False\n",
      "True\n",
      "False\n",
      "True\n"
     ]
    }
   ],
   "source": [
    "print(is_reflexive(A, R))\n",
    "print(is_antireflexive(A, R))\n",
    "print(is_symetric(A, R))\n",
    "print(is_antisymetric(A, R))\n",
    "print(is_asymetric(A, R))\n",
    "print(is_transitive(A, R))"
   ]
  }
 ],
 "metadata": {
  "kernelspec": {
   "display_name": "Python 3",
   "language": "python",
   "name": "python3"
  },
  "language_info": {
   "codemirror_mode": {
    "name": "ipython",
    "version": 3
   },
   "file_extension": ".py",
   "mimetype": "text/x-python",
   "name": "python",
   "nbconvert_exporter": "python",
   "pygments_lexer": "ipython3",
   "version": "3.13.2"
  }
 },
 "nbformat": 4,
 "nbformat_minor": 5
}

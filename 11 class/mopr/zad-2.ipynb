{
 "cells": [
  {
   "cell_type": "code",
   "execution_count": 5,
   "id": "34ab8693",
   "metadata": {},
   "outputs": [],
   "source": [
    "students = [\n",
    "    {\"Номер\": 1, \"Име\": \"Анна\", \"Клас\": 10},\n",
    "    {\"Номер\": 2, \"Име\": \"Борис\", \"Клас\": 10},\n",
    "    {\"Номер\": 3, \"Име\": \"Галя\", \"Клас\": 11},\n",
    "    {\"Номер\": 4, \"Име\": \"Анна\", \"Клас\": 11},\n",
    "]"
   ]
  },
  {
   "cell_type": "code",
   "execution_count": 6,
   "id": "2b0d0e40",
   "metadata": {},
   "outputs": [],
   "source": [
    "def select_by_number(relation, number):\n",
    "    return [r for r in relation if r[\"Номер\"] == number]"
   ]
  },
  {
   "cell_type": "code",
   "execution_count": 7,
   "id": "339d844e",
   "metadata": {},
   "outputs": [],
   "source": [
    "def select_by_name(relation, name):\n",
    "    return [r for r in relation if r[\"Име\"] == name]"
   ]
  },
  {
   "cell_type": "code",
   "execution_count": 8,
   "id": "acbf7408",
   "metadata": {},
   "outputs": [],
   "source": [
    "def select_by_class(relation, klas):\n",
    "    return [r for r in relation if r[\"Клас\"] == klas]"
   ]
  },
  {
   "cell_type": "code",
   "execution_count": 10,
   "id": "e38affe7",
   "metadata": {},
   "outputs": [],
   "source": [
    "def proection(relation, key):\n",
    "    return [r[key] for r in relation]"
   ]
  },
  {
   "cell_type": "code",
   "execution_count": 12,
   "id": "ae0c5000",
   "metadata": {},
   "outputs": [
    {
     "name": "stdout",
     "output_type": "stream",
     "text": [
      "[{'Номер': 3, 'Име': 'Галя', 'Клас': 11}]\n",
      "[{'Номер': 2, 'Име': 'Борис', 'Клас': 10}]\n",
      "[{'Номер': 3, 'Име': 'Галя', 'Клас': 11}, {'Номер': 4, 'Име': 'Анна', 'Клас': 11}]\n",
      "['Анна', 'Борис', 'Галя', 'Анна']\n"
     ]
    }
   ],
   "source": [
    "print(select_by_number(students, 3))\n",
    "print(select_by_name(students, \"Борис\"))\n",
    "print(select_by_class(students, 11))\n",
    "print(proection(students, \"Име\"))"
   ]
  }
 ],
 "metadata": {
  "kernelspec": {
   "display_name": "Python 3",
   "language": "python",
   "name": "python3"
  },
  "language_info": {
   "codemirror_mode": {
    "name": "ipython",
    "version": 3
   },
   "file_extension": ".py",
   "mimetype": "text/x-python",
   "name": "python",
   "nbconvert_exporter": "python",
   "pygments_lexer": "ipython3",
   "version": "3.13.2"
  }
 },
 "nbformat": 4,
 "nbformat_minor": 5
}
